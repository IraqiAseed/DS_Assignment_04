{
 "cells": [
  {
   "cell_type": "code",
   "execution_count": 30,
   "metadata": {},
   "outputs": [],
   "source": [
    "#1) Solve the Python Files Task\n",
    "\n",
    "#1 - Open a file, name it 'test.txt' and write 'hello world' for 5 times in it then close it.\n",
    "my_file = open('test.txt','w+')\n",
    "str_hello = \"hello world\\n\"\n",
    "for i in range(5):\n",
    "    my_file.write(str_hello)\n",
    "my_file.close()\n",
    "\n",
    "\n",
    "#2- Read the contents of the file, then make content in uppercase then write the result again to the file.\n",
    "my_file = open('test.txt','r+')\n",
    "my_file.seek(0)\n",
    "file_lines = my_file.readlines()\n",
    "\n",
    "length = len(file_lines)\n",
    "\n",
    "for i in range(length):\n",
    "    file_lines[i] = file_lines[i].upper()\n",
    "\n",
    "my_file.seek(0)\n",
    "my_file.writelines(file_lines)\n",
    "\n",
    "#3- Read the third line of the file then update it to its capital case using capitalize.  \n",
    "my_file.seek(0)\n",
    "file_lines = my_file.readlines()\n",
    "file_lines[2] = file_lines[2].capitalize()\n",
    "my_file.seek(0)\n",
    "my_file.writelines(file_lines)\n",
    "my_file.close()\n",
    "\n",
    "#4- Using With Statement open this file and append 'I Love python' to it.\n",
    "with open('test.txt', 'a') as my_file:\n",
    "    my_file.seek(0)\n",
    "    my_file.write('I Love python')"
   ]
  },
  {
   "cell_type": "code",
   "execution_count": null,
   "metadata": {},
   "outputs": [],
   "source": []
  }
 ],
 "metadata": {
  "kernelspec": {
   "display_name": "Python 3",
   "language": "python",
   "name": "python3"
  },
  "language_info": {
   "codemirror_mode": {
    "name": "ipython",
    "version": 3
   },
   "file_extension": ".py",
   "mimetype": "text/x-python",
   "name": "python",
   "nbconvert_exporter": "python",
   "pygments_lexer": "ipython3",
   "version": "3.8.5"
  }
 },
 "nbformat": 4,
 "nbformat_minor": 4
}
